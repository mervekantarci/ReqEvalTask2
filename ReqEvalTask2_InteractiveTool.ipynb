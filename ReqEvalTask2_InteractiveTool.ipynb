{
  "nbformat": 4,
  "nbformat_minor": 0,
  "metadata": {
    "colab": {
      "name": "ReqEvalTask2-InteractiveTool.ipynb",
      "provenance": [],
      "collapsed_sections": [],
      "toc_visible": true
    },
    "kernelspec": {
      "display_name": "Python 3",
      "name": "python3"
    },
    "accelerator": "GPU"
  },
  "cells": [
    {
      "cell_type": "markdown",
      "metadata": {
        "id": "AbpQN53XhtXM"
      },
      "source": [
        "# ReqEval Task : Detecting and Resolving Referential Ambiguity\r\n",
        "\r\n",
        "Interactive Tool\r\n",
        "\r\n",
        "by Group #2\r\n",
        "\r\n",
        "Güray Baydur, Çağlar Fırat, Merve Gül Kantarcı, Baturalp Yörük"
      ]
    },
    {
      "cell_type": "markdown",
      "metadata": {
        "id": "kmqxcb2BUKO6"
      },
      "source": [
        "# Set Up The Environment"
      ]
    },
    {
      "cell_type": "code",
      "metadata": {
        "colab": {
          "base_uri": "https://localhost:8080/"
        },
        "id": "QxAD2cbk5Rcz",
        "outputId": "1e2e4e1e-fd7a-4640-9f9f-493e00ff750b"
      },
      "source": [
        "from google.colab import drive\r\n",
        "drive.mount('/content/drive/')"
      ],
      "execution_count": 1,
      "outputs": [
        {
          "output_type": "stream",
          "text": [
            "Mounted at /content/drive/\n"
          ],
          "name": "stdout"
        }
      ]
    },
    {
      "cell_type": "code",
      "metadata": {
        "colab": {
          "base_uri": "https://localhost:8080/"
        },
        "id": "ySWNl5wi_4Pc",
        "outputId": "a62cc6ac-6bf5-42f1-f2fc-0ff9727b071c"
      },
      "source": [
        "%cd /content/drive/My Drive/RE-T2"
      ],
      "execution_count": 2,
      "outputs": [
        {
          "output_type": "stream",
          "text": [
            "/content/drive/My Drive/RE-T2\n"
          ],
          "name": "stdout"
        }
      ]
    },
    {
      "cell_type": "markdown",
      "metadata": {
        "id": "N9SrTMbox3Fy"
      },
      "source": [
        "# Loading Pretrained GPT-2 Model\r\n",
        "\r\n",
        "You can load the model you want to use with run name."
      ]
    },
    {
      "cell_type": "code",
      "metadata": {
        "id": "KBkpRgBCBS2_",
        "colab": {
          "base_uri": "https://localhost:8080/"
        },
        "outputId": "1ad3e4a5-b555-4c71-92d5-b1ee184b6429"
      },
      "source": [
        "\"\"\" Below we import the required library \"\"\"\n",
        "%tensorflow_version 1.x\n",
        "!pip install -q gpt-2-simple\n",
        "import gpt_2_simple as gpt2\n",
        "\n",
        "print(\"\\nLibrary installation succesful!\")"
      ],
      "execution_count": 3,
      "outputs": [
        {
          "output_type": "stream",
          "text": [
            "TensorFlow 1.x selected.\n",
            "  Building wheel for gpt-2-simple (setup.py) ... \u001b[?25l\u001b[?25hdone\n",
            "WARNING:tensorflow:\n",
            "The TensorFlow contrib module will not be included in TensorFlow 2.0.\n",
            "For more information, please see:\n",
            "  * https://github.com/tensorflow/community/blob/master/rfcs/20180907-contrib-sunset.md\n",
            "  * https://github.com/tensorflow/addons\n",
            "  * https://github.com/tensorflow/io (for I/O related ops)\n",
            "If you depend on functionality not listed there, please file an issue.\n",
            "\n",
            "\n",
            "Library installation succesful!\n"
          ],
          "name": "stdout"
        }
      ]
    },
    {
      "cell_type": "code",
      "metadata": {
        "colab": {
          "base_uri": "https://localhost:8080/"
        },
        "id": "sUmTooTW3osf",
        "outputId": "c97a8ec7-c3eb-4f70-d73b-1f180a5c92cd"
      },
      "source": [
        "\"\"\" \r\n",
        "PLEASE VERIFY THAT YOU ARE ACTUALLY USING GPU! \r\n",
        "OTHERWISE THE WHOLE PROCESS TAKES MUCH LONGER TIME...\r\n",
        "\"\"\"\r\n",
        "!nvidia-smi"
      ],
      "execution_count": 4,
      "outputs": [
        {
          "output_type": "stream",
          "text": [
            "Mon Jan 11 23:16:02 2021       \n",
            "+-----------------------------------------------------------------------------+\n",
            "| NVIDIA-SMI 460.27.04    Driver Version: 418.67       CUDA Version: 10.1     |\n",
            "|-------------------------------+----------------------+----------------------+\n",
            "| GPU  Name        Persistence-M| Bus-Id        Disp.A | Volatile Uncorr. ECC |\n",
            "| Fan  Temp  Perf  Pwr:Usage/Cap|         Memory-Usage | GPU-Util  Compute M. |\n",
            "|                               |                      |               MIG M. |\n",
            "|===============================+======================+======================|\n",
            "|   0  Tesla T4            Off  | 00000000:00:04.0 Off |                    0 |\n",
            "| N/A   44C    P8     9W /  70W |      0MiB / 15079MiB |      0%      Default |\n",
            "|                               |                      |                 ERR! |\n",
            "+-------------------------------+----------------------+----------------------+\n",
            "                                                                               \n",
            "+-----------------------------------------------------------------------------+\n",
            "| Processes:                                                                  |\n",
            "|  GPU   GI   CI        PID   Type   Process name                  GPU Memory |\n",
            "|        ID   ID                                                   Usage      |\n",
            "|=============================================================================|\n",
            "|  No running processes found                                                 |\n",
            "+-----------------------------------------------------------------------------+\n"
          ],
          "name": "stdout"
        }
      ]
    },
    {
      "cell_type": "code",
      "metadata": {
        "id": "P8wSlgXoDPCR"
      },
      "source": [
        "run_name = 'Full2' # unique run name to train a model"
      ],
      "execution_count": 54,
      "outputs": []
    },
    {
      "cell_type": "code",
      "metadata": {
        "colab": {
          "base_uri": "https://localhost:8080/"
        },
        "id": "JLjVqo3vvl8d",
        "outputId": "e4c14ebc-85a9-4dd1-c4d6-1794ed3f3d7c"
      },
      "source": [
        "# reset if there is a session corrupted due to Colab time limit\r\n",
        "try:\r\n",
        "  gpt2.reset_session(sess)\r\n",
        "except NameError:\r\n",
        "  pass\r\n",
        "sess = gpt2.start_tf_sess()\r\n",
        "gpt2.load_gpt2(sess, run_name=run_name)"
      ],
      "execution_count": 55,
      "outputs": [
        {
          "output_type": "stream",
          "text": [
            "Loading checkpoint checkpoint/Full2/model-2000\n",
            "INFO:tensorflow:Restoring parameters from checkpoint/Full2/model-2000\n"
          ],
          "name": "stdout"
        }
      ]
    },
    {
      "cell_type": "markdown",
      "metadata": {
        "id": "zJrRVKZ1zw9z"
      },
      "source": [
        "# Evaluating The Model\r\n",
        "\r\n",
        "Here we see how well (or what) the model learned."
      ]
    },
    {
      "cell_type": "code",
      "metadata": {
        "id": "6CVY2IYsH5XZ"
      },
      "source": [
        "prompt = \"<|startoftext|> The little children were around abondened house, hence <referential> they </referential> were looking upset.\""
      ],
      "execution_count": 56,
      "outputs": []
    },
    {
      "cell_type": "code",
      "metadata": {
        "colab": {
          "base_uri": "https://localhost:8080/"
        },
        "id": "gOaryWvEyqs0",
        "outputId": "f5da56bf-6445-4f7e-9f43-0908f1e79618"
      },
      "source": [
        "# change nsamples to model guess more!\r\n",
        "gpt2.generate(sess, \r\n",
        "    length=80,\r\n",
        "    temperature=0.8,\r\n",
        "    prefix=prompt,\r\n",
        "    nsamples=1,\r\n",
        "    batch_size=1,\r\n",
        "    truncate=\"<|endoftext|>\",\r\n",
        "    include_prefix=False,\r\n",
        "    run_name=run_name,\r\n",
        "    return_as_list=True\r\n",
        "    )"
      ],
      "execution_count": 57,
      "outputs": [
        {
          "output_type": "execute_result",
          "data": {
            "text/plain": [
              "[' the children ']"
            ]
          },
          "metadata": {
            "tags": []
          },
          "execution_count": 57
        }
      ]
    },
    {
      "cell_type": "code",
      "metadata": {
        "id": "JFmCRmQywrDI"
      },
      "source": [
        "prompt = \"<|startoftext|> The black cat was sitting in a room, and <referential> it </referential> was very crowded.\""
      ],
      "execution_count": 58,
      "outputs": []
    },
    {
      "cell_type": "code",
      "metadata": {
        "colab": {
          "base_uri": "https://localhost:8080/"
        },
        "id": "PXUdgllJz0kM",
        "outputId": "ed9fce74-2f62-45be-d1b1-02b9e3b130bf"
      },
      "source": [
        "# change nsamples to model guess more!\r\n",
        "gpt2.generate(sess, \r\n",
        "    length=80,\r\n",
        "    temperature=0.8,\r\n",
        "    prefix=prompt,\r\n",
        "    nsamples=1,\r\n",
        "    batch_size=1,\r\n",
        "    truncate=\"<|endoftext|>\",\r\n",
        "    include_prefix=False,\r\n",
        "    run_name=run_name,\r\n",
        "    return_as_list=True\r\n",
        "    )"
      ],
      "execution_count": 59,
      "outputs": [
        {
          "output_type": "execute_result",
          "data": {
            "text/plain": [
              "[' the black cat ']"
            ]
          },
          "metadata": {
            "tags": []
          },
          "execution_count": 59
        }
      ]
    },
    {
      "cell_type": "code",
      "metadata": {
        "id": "Ib3tlZPsw0Gp"
      },
      "source": [
        "prompt = \"<|startoftext|> The black cat was sitting in a room, and <referential> it </referential> was staying still.\""
      ],
      "execution_count": 60,
      "outputs": []
    },
    {
      "cell_type": "code",
      "metadata": {
        "colab": {
          "base_uri": "https://localhost:8080/"
        },
        "id": "KmweiqR1z2w9",
        "outputId": "14e20a64-662a-45b6-f87f-e019a796a823"
      },
      "source": [
        "# change nsamples to model guess more!\r\n",
        "gpt2.generate(sess, \r\n",
        "    length=80,\r\n",
        "    temperature=0.8,\r\n",
        "    prefix=prompt,\r\n",
        "    nsamples=1,\r\n",
        "    batch_size=1,\r\n",
        "    truncate=\"<|endoftext|>\",\r\n",
        "    include_prefix=False,\r\n",
        "    run_name=run_name,\r\n",
        "    return_as_list=True\r\n",
        "    )"
      ],
      "execution_count": 61,
      "outputs": [
        {
          "output_type": "execute_result",
          "data": {
            "text/plain": [
              "[' the black cat ']"
            ]
          },
          "metadata": {
            "tags": []
          },
          "execution_count": 61
        }
      ]
    },
    {
      "cell_type": "code",
      "metadata": {
        "id": "PHS8rfRrxF03"
      },
      "source": [
        "prompt = \"<|startoftext|> The road was not comfortable for driver, and <referential> he </referential> was looking frightened.\""
      ],
      "execution_count": 33,
      "outputs": []
    },
    {
      "cell_type": "code",
      "metadata": {
        "id": "nBphCjUIogI_",
        "colab": {
          "base_uri": "https://localhost:8080/"
        },
        "outputId": "b0b86a12-c3e1-4e6e-f47b-3fda3a4e5690"
      },
      "source": [
        "# change nsamples to model guess more!\r\n",
        "gpt2.generate(sess, \r\n",
        "    length=80,\r\n",
        "    temperature=0.8,\r\n",
        "    prefix=prompt,\r\n",
        "    nsamples=1,\r\n",
        "    batch_size=1,\r\n",
        "    truncate=\"<|endoftext|>\",\r\n",
        "    include_prefix=False,\r\n",
        "    run_name=run_name,\r\n",
        "    return_as_list=True\r\n",
        "    )"
      ],
      "execution_count": 34,
      "outputs": [
        {
          "output_type": "execute_result",
          "data": {
            "text/plain": [
              "[' the driver ']"
            ]
          },
          "metadata": {
            "tags": []
          },
          "execution_count": 34
        }
      ]
    },
    {
      "cell_type": "code",
      "metadata": {
        "id": "iqYOF20IxV9v"
      },
      "source": [
        "prompt = \"<|startoftext|> The road was not comfortable for driver, and <referential> it </referential> was dangerous.\""
      ],
      "execution_count": 29,
      "outputs": []
    },
    {
      "cell_type": "code",
      "metadata": {
        "colab": {
          "base_uri": "https://localhost:8080/"
        },
        "id": "yeTJpTxlxkI8",
        "outputId": "02f326df-49c6-425b-afc4-2c2237bca463"
      },
      "source": [
        "# change nsamples to model guess more!\r\n",
        "gpt2.generate(sess, \r\n",
        "    length=80,\r\n",
        "    temperature=0.8,\r\n",
        "    prefix=prompt,\r\n",
        "    nsamples=1,\r\n",
        "    batch_size=1,\r\n",
        "    truncate=\"<|endoftext|>\",\r\n",
        "    include_prefix=False,\r\n",
        "    run_name=run_name,\r\n",
        "    return_as_list=True\r\n",
        "    )"
      ],
      "execution_count": 30,
      "outputs": [
        {
          "output_type": "execute_result",
          "data": {
            "text/plain": [
              "[' the road ']"
            ]
          },
          "metadata": {
            "tags": []
          },
          "execution_count": 30
        }
      ]
    },
    {
      "cell_type": "markdown",
      "metadata": {
        "id": "wmTXWNUygS5E"
      },
      "source": [
        "# LICENSE\n",
        "\n",
        "MIT License\n",
        "\n",
        "Copyright (c) 2019 Max Woolf\n",
        "\n",
        "Permission is hereby granted, free of charge, to any person obtaining a copy\n",
        "of this software and associated documentation files (the \"Software\"), to deal\n",
        "in the Software without restriction, including without limitation the rights\n",
        "to use, copy, modify, merge, publish, distribute, sublicense, and/or sell\n",
        "copies of the Software, and to permit persons to whom the Software is\n",
        "furnished to do so, subject to the following conditions:\n",
        "\n",
        "The above copyright notice and this permission notice shall be included in all\n",
        "copies or substantial portions of the Software.\n",
        "\n",
        "THE SOFTWARE IS PROVIDED \"AS IS\", WITHOUT WARRANTY OF ANY KIND, EXPRESS OR\n",
        "IMPLIED, INCLUDING BUT NOT LIMITED TO THE WARRANTIES OF MERCHANTABILITY,\n",
        "FITNESS FOR A PARTICULAR PURPOSE AND NONINFRINGEMENT. IN NO EVENT SHALL THE\n",
        "AUTHORS OR COPYRIGHT HOLDERS BE LIABLE FOR ANY CLAIM, DAMAGES OR OTHER\n",
        "LIABILITY, WHETHER IN AN ACTION OF CONTRACT, TORT OR OTHERWISE, ARISING FROM,\n",
        "OUT OF OR IN CONNECTION WITH THE SOFTWARE OR THE USE OR OTHER DEALINGS IN THE\n",
        "SOFTWARE."
      ]
    }
  ]
}